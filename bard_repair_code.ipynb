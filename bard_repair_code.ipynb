{
  "nbformat": 4,
  "nbformat_minor": 0,
  "metadata": {
    "colab": {
      "provenance": [],
      "authorship_tag": "ABX9TyMQa5fDhRr58QShniaPha9z",
      "include_colab_link": true
    },
    "kernelspec": {
      "name": "python3",
      "display_name": "Python 3"
    },
    "language_info": {
      "name": "python"
    }
  },
  "cells": [
    {
      "cell_type": "markdown",
      "metadata": {
        "id": "view-in-github",
        "colab_type": "text"
      },
      "source": [
        "<a href=\"https://colab.research.google.com/github/HolyfieldLee/OSS_Jetbot_3TEAM/blob/main/bard_repair_code.ipynb\" target=\"_parent\"><img src=\"https://colab.research.google.com/assets/colab-badge.svg\" alt=\"Open In Colab\"/></a>"
      ]
    },
    {
      "cell_type": "markdown",
      "source": [
        "# 파이썬 버전 or 파이토치 버전 이슈 관련 코드"
      ],
      "metadata": {
        "id": "mhesQuZyNu4-"
      }
    },
    {
      "cell_type": "code",
      "source": [
        "#torch의 라이브러리 버전을 낮추면 파이썬 3.9 버전에서도 실행할 수 있습니다. torch의 라이브러리 버전을 낮추려면 다음과 같은 명령을 실행합니다.\n",
        "pip install torch==1.10.0\n",
        "\n"
      ],
      "metadata": {
        "id": "FgFbana8Nqy_"
      },
      "execution_count": null,
      "outputs": []
    },
    {
      "cell_type": "markdown",
      "source": [
        "\n",
        "젯봇에서 파이썬 3.10 버전으로 업데이트하려면 다음과 같은 단계를 따르세요.\n",
        "\n",
        "JetBot을 부팅합니다.\n",
        "터미널을 엽니다.\n",
        "다음 명령을 실행합니다.\n",
        "sudo apt update\n",
        "이 명령을 실행하면 시스템의 패키지 목록이 업데이트됩니다.\n",
        "\n",
        "다음 명령을 실행합니다.\n",
        "sudo apt install python3.10\n",
        "이 명령을 실행하면 파이썬 3.10 버전이 설치됩니다.\n",
        "\n",
        "다음 명령을 실행하여 파이썬의 기본 버전을 3.10으로 설정합니다.\n",
        "sudo update-alternatives --install /usr/bin/python python /usr/bin/python3.10 1\n",
        "이 명령을 실행하면 파이썬의 기본 버전이 3.10으로 설정됩니다.\n",
        "\n",
        "젯봇을 재부팅합니다.\n",
        "젯봇을 재부팅하면 파이썬이 3.10 버전으로 실행됩니다.\n",
        "\n",
        "이러한 단계를 따르면 젯봇에서 파이썬 3.10 버전을 사용할 수 있습니다.\n",
        "\n",
        "다음은 파이썬 3.10 버전으로 업데이트할 때 주의해야 할 몇 가지 사항입니다.\n",
        "\n",
        "파이썬 3.10 버전은 이전 버전과 호환되지 않는 몇 가지 변경 사항을 포함하고 있습니다. 따라서, 기존 코드에서 문제가 발생할 수 있습니다.\n",
        "파이썬 3.10 버전은 아직 개발 중이며, 안정성이 완전히 보장되지 않을 수 있습니다.\n",
        "이러한 사항을 염두에 두고 파이썬 3.10 버전으로 업데이트하세요."
      ],
      "metadata": {
        "id": "oXlGRbOIN-yi"
      }
    },
    {
      "cell_type": "code",
      "source": [],
      "metadata": {
        "id": "F7h5bwhcN7G5"
      },
      "execution_count": null,
      "outputs": []
    },
    {
      "cell_type": "markdown",
      "source": [
        "# int 오류 안나오는 코드"
      ],
      "metadata": {
        "id": "-Ktb8011NrKp"
      }
    },
    {
      "cell_type": "code",
      "execution_count": null,
      "metadata": {
        "id": "_DGqSfYSNj0X"
      },
      "outputs": [],
      "source": [
        "import torch\n",
        "import pickle\n",
        "import cv2\n",
        "from jetbot import Robot, Camera\n",
        "import traitlets\n",
        "from IPython.display import display\n",
        "import ipywidgets.widgets as widgets\n",
        "from jetbot import Camera, bgr8_to_jpeg\n",
        "\n",
        "\n",
        "# Load the pretrained model\n",
        "model = pickle.load(open(\"my_model.pth\", \"rb\"), encoding=\"utf-8\")\n",
        "print(\"모델이 성공적으로 로드되었습니다!\")\n",
        "\n",
        "# Initialize the robot and camera\n",
        "robot = Robot()\n",
        "camera = Camera.instance(width=224, height=224, fps=1)\n",
        "\n",
        "# Create widgets for displaying images and sliders\n",
        "image = widgets.Image(format='jpeg', width=224, height=224)\n",
        "camera_link = traitlets.dlink((camera, 'value'), (image, 'value'), transform=bgr8_to_jpeg)\n",
        "display(image)\n",
        "\n",
        "# Function to preprocess image for the model\n",
        "def preprocess(image):\n",
        "    # Your image preprocessing code here (if needed)\n",
        "    return image\n",
        "\n",
        "# Function to update robot actions based on color detection\n",
        "def update(change):\n",
        "    image_value = change['new']\n",
        "    # Preprocess the image\n",
        "    preprocessed_image = preprocess(image_value)\n",
        "\n",
        "    # Make predictions using the model\n",
        "    predictions = model(preprocessed_image)\n",
        "\n",
        "    # Get the predicted class (index with the maximum probability)\n",
        "    predicted_class = torch.argmax(predictions).item()\n",
        "\n",
        "    # Display the image with detected color\n",
        "    image.value = bgr8_to_jpeg(image_value)\n",
        "\n",
        "    # Define color thresholds (adjust as needed)\n",
        "    red_threshold = 150\n",
        "    green_threshold = 150\n",
        "    blue_threshold = 150\n",
        "\n",
        "    # Extract color values from the center of the image\n",
        "    center_pixel = image_value[112, 112, :]\n",
        "    red_value, green_value, blue_value = center_pixel\n",
        "\n",
        "    # Control the robot based on the detected color\n",
        "    if red_value > red_threshold:\n",
        "        # Stop for red\n",
        "        robot.stop()\n",
        "    elif green_value > green_threshold:\n",
        "        # Move forward for green\n",
        "        robot.forward(0.5)\n",
        "    elif blue_value > blue_threshold:\n",
        "        # Move backward for blue\n",
        "        robot.backward(0.5)\n",
        "\n",
        "# Observe the camera value and update the robot actions\n",
        "camera.observe(update, names='value')\n"
      ]
    }
  ]
}