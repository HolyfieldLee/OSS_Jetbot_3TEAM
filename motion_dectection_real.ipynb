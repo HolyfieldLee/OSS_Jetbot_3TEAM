from jetbot import Camera
camera = Camera.instance()



import torchvision.transforms as transforms
from dataset import ImageClassificationDataset

TASK = 'sign'
CATEGORIES = ['like', 'alike', 'dislike', 'stop']
DATASETS = ['A']

TRANSFORMS = transforms.Compose([
  transforms.ColorJitter(0.2, 0.2, 0.2, 0.2),
  transforms.Resize((224, 224)),
  transforms.ToTensor(),
  transforms.Normalize([0.485, 0.456, 0.406], [0.229, 0.224, 0.225])
])

datasets ={}

for name in DATASETS:
  datasets[name] = ImageClassificationDataset(TASK + '_' + name, CATEGORIES, TRANSFORMS)

print("{} 카테고리를 가지는 {} 테스크가 정의되었습니다." .format(CATEGORIES, TASK))
