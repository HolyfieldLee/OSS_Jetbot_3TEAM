import torch.nn.functional as F
import time

def update(change):
  global blocked_slider, robot
  x = change['new']
  x = preprocess(x)
  y = model(x)

  y = F.softmax(y, dim=1)

  prob_red = float(y.flatten()[2])
  prob_orange = float(y.flatten()[1])
  prob_green = float(y.flatten()[0])

  red_slider.value = prob_red
  orange_slider.value = prob_orange
  green_slider.value = prob_green

  if prob_red > 0.6:
    robot.forward(0.2)
    time.sleep(0.1)
  else:
    robot.forward(0.3)

  if prob_orange > 0.6:
    robot.forward(0.15)
    time.sleep(0.1)
  else:
    robot.forward(0.3)
  if prob_green > 0.6:
    robot.forward(0.3)

  time.sleep(0.001)
update({'new': camera.value})
