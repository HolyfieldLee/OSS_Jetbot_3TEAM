{
 "cells": [
  {
   "cell_type": "markdown",
   "metadata": {
    "colab_type": "text",
    "id": "view-in-github"
   },
   "source": [
    "<a href=\"https://colab.research.google.com/github/HolyfieldLee/OSS_Jetbot_3TEAM/blob/main/servo.ipynb\" target=\"_parent\"><img src=\"https://colab.research.google.com/assets/colab-badge.svg\" alt=\"Open In Colab\"/></a>"
   ]
  },
  {
   "cell_type": "code",
   "execution_count": 1,
   "metadata": {
    "id": "BXj_K_RTP54x"
   },
   "outputs": [
    {
     "ename": "FileNotFoundError",
     "evalue": "[Errno 2] No such file or directory: '/home/jetbot/JetbotConfig.txt'",
     "output_type": "error",
     "traceback": [
      "\u001b[0;31m---------------------------------------------------------------------------\u001b[0m",
      "\u001b[0;31mFileNotFoundError\u001b[0m                         Traceback (most recent call last)",
      "\u001b[0;32m<ipython-input-1-a8846c410c2c>\u001b[0m in \u001b[0;36m<module>\u001b[0;34m\u001b[0m\n\u001b[1;32m      1\u001b[0m \u001b[0;32mimport\u001b[0m \u001b[0mre\u001b[0m\u001b[0;34m\u001b[0m\u001b[0;34m\u001b[0m\u001b[0m\n\u001b[1;32m      2\u001b[0m \u001b[0;34m\u001b[0m\u001b[0m\n\u001b[0;32m----> 3\u001b[0;31m \u001b[0;32mwith\u001b[0m \u001b[0mopen\u001b[0m\u001b[0;34m(\u001b[0m\u001b[0;34m\"/home/jetbot/JetbotConfig.txt\"\u001b[0m\u001b[0;34m,\u001b[0m\u001b[0;34m\"r\"\u001b[0m\u001b[0;34m)\u001b[0m \u001b[0;32mas\u001b[0m \u001b[0mf\u001b[0m\u001b[0;34m:\u001b[0m\u001b[0;34m\u001b[0m\u001b[0;34m\u001b[0m\u001b[0m\n\u001b[0m\u001b[1;32m      4\u001b[0m \u001b[0;34m\u001b[0m\u001b[0m\n\u001b[1;32m      5\u001b[0m   \u001b[0mlines\u001b[0m \u001b[0;34m=\u001b[0m \u001b[0mf\u001b[0m\u001b[0;34m.\u001b[0m\u001b[0mreadlines\u001b[0m\u001b[0;34m(\u001b[0m\u001b[0;34m)\u001b[0m\u001b[0;34m\u001b[0m\u001b[0;34m\u001b[0m\u001b[0m\n",
      "\u001b[0;31mFileNotFoundError\u001b[0m: [Errno 2] No such file or directory: '/home/jetbot/JetbotConfig.txt'"
     ]
    }
   ],
   "source": [
    "import re\n",
    "\n",
    "with open(\"/home/jetbot/JetbotConfig.txt\",\"r\") as f:\n",
    "\n",
    "  lines = f.readlines()\n",
    "  pattern = re.compile('\"(.*)\"')\n",
    "\n",
    "  L_F_MPR = float(pattern.findall(lines[0])[0])\n",
    "  R_F_MPR = float(pattern.findall(lines[1])[0])\n",
    "\n",
    "  L_B_MPR = float(pattern.findall(lines[2])[0])\n",
    "  R_B_MPR = float(pattern.findall(lines[3])[0])\n",
    "\n",
    "  PAN_ANJ = int(pattern.findall(lines[4])[0])\n",
    "  TILT_ADJ = int(pattern.findall(lines[5])[0])\n",
    "\n",
    "  print(\"JetbotConfig file loaded. \")"
   ]
  },
  {
   "cell_type": "code",
   "execution_count": 2,
   "metadata": {
    "id": "5LDkO1uwRHUO"
   },
   "outputs": [
    {
     "ename": "ModuleNotFoundError",
     "evalue": "No module named 'servoserial'",
     "output_type": "error",
     "traceback": [
      "\u001b[0;31m---------------------------------------------------------------------------\u001b[0m",
      "\u001b[0;31mModuleNotFoundError\u001b[0m                       Traceback (most recent call last)",
      "\u001b[0;32m<ipython-input-2-c59a8b819590>\u001b[0m in \u001b[0;36m<module>\u001b[0;34m\u001b[0m\n\u001b[1;32m      2\u001b[0m \u001b[0mos\u001b[0m\u001b[0;34m.\u001b[0m\u001b[0msystem\u001b[0m\u001b[0;34m(\u001b[0m\u001b[0;34m\"sudo chmod 777 /dev/ttyTHS1\"\u001b[0m\u001b[0;34m)\u001b[0m\u001b[0;34m\u001b[0m\u001b[0;34m\u001b[0m\u001b[0m\n\u001b[1;32m      3\u001b[0m \u001b[0;34m\u001b[0m\u001b[0m\n\u001b[0;32m----> 4\u001b[0;31m \u001b[0;32mfrom\u001b[0m \u001b[0mservoserial\u001b[0m \u001b[0;32mimport\u001b[0m \u001b[0mServoSerial\u001b[0m\u001b[0;34m\u001b[0m\u001b[0;34m\u001b[0m\u001b[0m\n\u001b[0m\u001b[1;32m      5\u001b[0m \u001b[0mpantilt\u001b[0m \u001b[0;34m=\u001b[0m \u001b[0mServoSerial\u001b[0m\u001b[0;34m(\u001b[0m\u001b[0;34m)\u001b[0m\u001b[0;34m\u001b[0m\u001b[0;34m\u001b[0m\u001b[0m\n",
      "\u001b[0;31mModuleNotFoundError\u001b[0m: No module named 'servoserial'"
     ]
    }
   ],
   "source": [
    "import os\n",
    "os.system(\"sudo chmod 777 /dev/ttyTHS1\")\n",
    "\n",
    "from servoserial import ServoSerial\n",
    "pantilt = ServoSerial()"
   ]
  },
  {
   "cell_type": "code",
   "execution_count": 3,
   "metadata": {
    "id": "DbdFwaMWRHRv"
   },
   "outputs": [
    {
     "ename": "NameError",
     "evalue": "name 'pantilt' is not defined",
     "output_type": "error",
     "traceback": [
      "\u001b[0;31m---------------------------------------------------------------------------\u001b[0m",
      "\u001b[0;31mNameError\u001b[0m                                 Traceback (most recent call last)",
      "\u001b[0;32m<ipython-input-3-d20026adf5e5>\u001b[0m in \u001b[0;36m<module>\u001b[0;34m\u001b[0m\n\u001b[0;32m----> 1\u001b[0;31m \u001b[0mpantilt\u001b[0m\u001b[0;34m.\u001b[0m\u001b[0mServo_serial_double_control\u001b[0m\u001b[0;34m(\u001b[0m\u001b[0;36m1\u001b[0m\u001b[0;34m,\u001b[0m \u001b[0mMID_PAN\u001b[0m\u001b[0;34m,\u001b[0m \u001b[0;36m2\u001b[0m\u001b[0;34m,\u001b[0m \u001b[0mDEF_TILT\u001b[0m\u001b[0;34m)\u001b[0m\u001b[0;34m\u001b[0m\u001b[0;34m\u001b[0m\u001b[0m\n\u001b[0m\u001b[1;32m      2\u001b[0m \u001b[0mtime\u001b[0m\u001b[0;34m.\u001b[0m\u001b[0msleep\u001b[0m\u001b[0;34m(\u001b[0m\u001b[0;36m0.5\u001b[0m\u001b[0;34m)\u001b[0m\u001b[0;34m\u001b[0m\u001b[0;34m\u001b[0m\u001b[0m\n",
      "\u001b[0;31mNameError\u001b[0m: name 'pantilt' is not defined"
     ]
    }
   ],
   "source": [
    "pantilt.Servo_serial_double_control(1, MID_PAN, 2, DEF_TILT)\n",
    "time.sleep(0.5)"
   ]
  },
  {
   "cell_type": "code",
   "execution_count": 4,
   "metadata": {
    "id": "CtLRK7yORHPe"
   },
   "outputs": [],
   "source": [
    "from jetbot import Robot\n",
    "\n",
    "robot = Robot()"
   ]
  },
  {
   "cell_type": "code",
   "execution_count": 3,
   "metadata": {
    "id": "jUVmu9VQRHM2"
   },
   "outputs": [],
   "source": [
    "Speed = 0.7\n",
    "L_F_MPR = 1.00\n",
    "L_B_MPR =1.00\n",
    "R_F_MPR= 1.00\n",
    "R_B_MPR = 1.00\n",
    "\n",
    "def Move2(speedLeft, speedRight):\n",
    "    L_F_MPR = 1.00\n",
    "    L_B_MPR =1.00\n",
    "    R_F_MPR= 1.00\n",
    "    R_B_MPR = 1.00\n",
    "    if speedLeft > 0:\n",
    "        robot.left_motor.value = speedLeft * L_F_MPR\n",
    "    else:\n",
    "        robot.left_motor.value = speedLeft * L_B_MPR\n",
    "    if speedRight > 0:\n",
    "        robot.right_motor.value = speedRight * R_F_MPR\n",
    "    else:\n",
    "        robot.right_motor.value = speedRight * R_B_MPR\n",
    "\n",
    "def Move(speed):\n",
    "    Move2(speed, speed)\n",
    "\n",
    "def Stop():\n",
    "    robot.left_motor.value = 0\n",
    "    robot.right_motor.value = 0\n"
   ]
  },
  {
   "cell_type": "code",
   "execution_count": 4,
   "metadata": {},
   "outputs": [
    {
     "name": "stdout",
     "output_type": "stream",
     "text": [
      "Defaulting to user installation because normal site-packages is not writeable\n",
      "Requirement already satisfied: pyserial in /usr/local/lib/python3.6/dist-packages/pyserial-3.4-py3.6.egg (3.4)\n",
      "\u001b[33mWARNING: You are using pip version 20.0.2; however, version 21.3.1 is available.\n",
      "You should consider upgrading via the '/usr/bin/python3 -m pip install --upgrade pip' command.\u001b[0m\n",
      "Note: you may need to restart the kernel to use updated packages.\n"
     ]
    }
   ],
   "source": [
    "pip install pyserial"
   ]
  },
  {
   "cell_type": "code",
   "execution_count": 5,
   "metadata": {
    "id": "yXwqWCN0RoD7"
   },
   "outputs": [
    {
     "ename": "ModuleNotFoundError",
     "evalue": "No module named 'servoserial'",
     "output_type": "error",
     "traceback": [
      "\u001b[0;31m---------------------------------------------------------------------------\u001b[0m",
      "\u001b[0;31mModuleNotFoundError\u001b[0m                       Traceback (most recent call last)",
      "\u001b[0;32m<ipython-input-5-a022d2a1cdf0>\u001b[0m in \u001b[0;36m<module>\u001b[0;34m\u001b[0m\n\u001b[1;32m      2\u001b[0m \u001b[0mos\u001b[0m\u001b[0;34m.\u001b[0m\u001b[0msystem\u001b[0m\u001b[0;34m(\u001b[0m\u001b[0;34m\"sudo chmod 777 /dev/ttyTHS1\"\u001b[0m\u001b[0;34m)\u001b[0m\u001b[0;34m\u001b[0m\u001b[0;34m\u001b[0m\u001b[0m\n\u001b[1;32m      3\u001b[0m \u001b[0;34m\u001b[0m\u001b[0m\n\u001b[0;32m----> 4\u001b[0;31m \u001b[0;32mfrom\u001b[0m \u001b[0mservoserial\u001b[0m \u001b[0;32mimport\u001b[0m \u001b[0mServoSerial\u001b[0m\u001b[0;34m\u001b[0m\u001b[0;34m\u001b[0m\u001b[0m\n\u001b[0m\u001b[1;32m      5\u001b[0m \u001b[0mpantilt\u001b[0m \u001b[0;34m=\u001b[0m \u001b[0mServoSerial\u001b[0m\u001b[0;34m(\u001b[0m\u001b[0;34m)\u001b[0m\u001b[0;34m\u001b[0m\u001b[0;34m\u001b[0m\u001b[0m\n\u001b[1;32m      6\u001b[0m \u001b[0;34m\u001b[0m\u001b[0m\n",
      "\u001b[0;31mModuleNotFoundError\u001b[0m: No module named 'servoserial'"
     ]
    }
   ],
   "source": [
    "import os\n",
    "os.system(\"sudo chmod 777 /dev/ttyTHS1\")\n",
    "\n",
    "from servoserial import ServoSerial\n",
    "pantilt = ServoSerial()\n",
    "\n",
    "ActTimePeriodPerson = 30\n",
    "LastTimeDetectedPerson = 0\n",
    "\n",
    "def ActModePerson(repeat = 3):\n",
    "    speed = 0.5\n",
    "    delay = 0.02\n",
    "\n",
    "    RGB.Set_BreathSColor_RGB(6)\n",
    "    RGB.Set_BreathSSpeed_RGB(3)\n",
    "    RGB.Set_BreathSLight_RGB()\n",
    "\n",
    "    pantilt.Servo_serial_double_control(1, MID_PAN, 2, DEF_TILT)\n",
    "    Beep(0.05)\n",
    "    for i in range(0,repeat):\n",
    "\n",
    "        pantilt.Servo_serial_control(1, MID_PAN+200)\n",
    "        Move2(-speed, speed)\n",
    "        time.sleep(delay)\n",
    "        pantilt.Servo_serial_control(1, MID_PAN+400)\n",
    "        Move2(-speed, speed)\n",
    "        time.sleep(delay)\n",
    "        pantilt.Servo_serial_control(1, MID_PAN+200)\n",
    "        Stop()\n",
    "        time.sleep(delay)\n",
    "\n",
    "        pantilt.Servo_serial_control(1, MID_PAN-200)\n",
    "        Move2(speed, -speed)\n",
    "        time.sleep(delay)\n",
    "        pantilt.Servo_serial_control(1, MID_PAN-400)\n",
    "        Move2(speed, -speed)\n",
    "        time.sleep(delay)\n",
    "        pantilt.Servo_serial_control(1, MID_PAN-200)\n",
    "        Stop()\n",
    "        time.sleep(delay)\n",
    "\n",
    "        pantilt.Servo_serial_control(1, MID_PAN)\n",
    "        Stop()\n",
    "        time.sleep(delay)"
   ]
  },
  {
   "cell_type": "code",
   "execution_count": null,
   "metadata": {
    "id": "-tT0_-rjRoB6"
   },
   "outputs": [],
   "source": []
  },
  {
   "cell_type": "code",
   "execution_count": null,
   "metadata": {
    "id": "ItR5I8qvRn_j"
   },
   "outputs": [],
   "source": []
  },
  {
   "cell_type": "code",
   "execution_count": null,
   "metadata": {
    "id": "2UI7eNkIRn9Z"
   },
   "outputs": [],
   "source": []
  }
 ],
 "metadata": {
  "colab": {
   "authorship_tag": "ABX9TyOPhO5vx+ct4/BvpJ8HWj+W",
   "include_colab_link": true,
   "provenance": []
  },
  "kernelspec": {
   "display_name": "Python 3",
   "language": "python",
   "name": "python3"
  },
  "language_info": {
   "codemirror_mode": {
    "name": "ipython",
    "version": 3
   },
   "file_extension": ".py",
   "mimetype": "text/x-python",
   "name": "python",
   "nbconvert_exporter": "python",
   "pygments_lexer": "ipython3",
   "version": "3.6.9"
  }
 },
 "nbformat": 4,
 "nbformat_minor": 4
}
