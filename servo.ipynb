{
  "nbformat": 4,
  "nbformat_minor": 0,
  "metadata": {
    "colab": {
      "provenance": [],
      "authorship_tag": "ABX9TyOPhO5vx+ct4/BvpJ8HWj+W",
      "include_colab_link": true
    },
    "kernelspec": {
      "name": "python3",
      "display_name": "Python 3"
    },
    "language_info": {
      "name": "python"
    }
  },
  "cells": [
    {
      "cell_type": "markdown",
      "metadata": {
        "id": "view-in-github",
        "colab_type": "text"
      },
      "source": [
        "<a href=\"https://colab.research.google.com/github/HolyfieldLee/OSS_Jetbot_3TEAM/blob/main/servo.ipynb\" target=\"_parent\"><img src=\"https://colab.research.google.com/assets/colab-badge.svg\" alt=\"Open In Colab\"/></a>"
      ]
    },
    {
      "cell_type": "code",
      "execution_count": null,
      "metadata": {
        "id": "BXj_K_RTP54x"
      },
      "outputs": [],
      "source": [
        "import re\n",
        "\n",
        "with(\"/home/jetbot/JetbotConfig.txt\",\"r\") as f:\n",
        "\n",
        "  lines = f.readlines()\n",
        "  pattern = re.compile('\"(.*)\"')\n",
        "\n",
        "  L_F_MPR = float(pattern.findall(lines[0])[0])\n",
        "  R_F_MPR = float(pattern.findall(lines[1])[0])\n",
        "\n",
        "  L_B_MPR = float(pattern.findall(lines[2])[0])\n",
        "  R_B_MPR = float(pattern.findall(lines[3])[0])\n",
        "\n",
        "  PAN_ANJ = int(pattern.findall(lines[4])[0])\n",
        "  TILT_ADJ = int(pattern.findall(lines[5])[0])\n",
        "\n",
        "  print(\"JetbotConfig file loaded. \")"
      ]
    },
    {
      "cell_type": "code",
      "source": [
        "import os\n",
        "os.system(\"sudo chmod 777 /dev/ttyTHS1\")\n",
        "\n",
        "from servoserial import ServoSerial\n",
        "pantilt = ServoSerial()"
      ],
      "metadata": {
        "id": "5LDkO1uwRHUO"
      },
      "execution_count": null,
      "outputs": []
    },
    {
      "cell_type": "code",
      "source": [
        "pantilt.Servo_serial_double_control(1, MID_PAN, 2, DEF_TILT)\n",
        "time.sleep(0.5)"
      ],
      "metadata": {
        "id": "DbdFwaMWRHRv"
      },
      "execution_count": null,
      "outputs": []
    },
    {
      "cell_type": "code",
      "source": [
        "from jetbot import Robot\n",
        "\n",
        "robot = Robot()"
      ],
      "metadata": {
        "id": "CtLRK7yORHPe"
      },
      "execution_count": null,
      "outputs": []
    },
    {
      "cell_type": "code",
      "source": [
        "Speed = 0.7\n",
        "\n",
        "def Move2(speedLeft, speedRight):\n",
        "  if speedLeft > 0:\n",
        "    robot.left_motor.value = speedLeft * L_F_MPR\n",
        "  else:\n",
        "    robot.left_motor.value = speedLeft * L_B_MPR\n",
        "  if speedRight > 0:\n",
        "    robot.right_motor.value = speedRight * R_F_MPR\n",
        "  else:\n",
        "    robot.right_motor.value = speedRight * R_F_MPR\n",
        "\n",
        "def Move(speed):\n",
        "  Move2(speed, speed)\n",
        "\n",
        "def Stop():\n",
        "  robot.left_motor.value = 0\n",
        "  robot.right_motor.value = 0\n"
      ],
      "metadata": {
        "id": "jUVmu9VQRHM2"
      },
      "execution_count": null,
      "outputs": []
    },
    {
      "cell_type": "code",
      "source": [
        "ActTimePeriodPerson = 30\n",
        "LastTimeDetectedPerson = 0\n",
        "\n",
        "def ActModePerson(repeat = 3):\n",
        "  speed = 0.5\n",
        "  delay = 0.02\n",
        "\n",
        "  RGB.Set_BreathSColor_RGB(6)\n",
        "  RGB.Set_BreathSSpeed_RGB(3)\n",
        "  RGB.Set_BreathSLight_RGB()\n",
        "\n",
        "  pantilt.Servo_serial_double_control(1, MID_PAN, 2, DEF_TILT)\n",
        "  Beep(0.05)\n",
        "  for i in range(0,repeat):\n",
        "\n",
        "    pantilt.Servo_serial_control(1, MID_PAN+200)\n",
        "    Move2(-speed, speed)\n",
        "    time.sleep(delay)\n",
        "    pantilt.Servo_serial_control(1, MID_PAN+400)\n",
        "    Move2(-speed, speed)\n",
        "    time.sleep(delay)\n",
        "    pantilt.Servo_serial_control(1, MID_PAN+200)\n",
        "    Stop()\n",
        "    time.sleep(delay)\n",
        "\n",
        "    pantilt.Servo_serial_control(1, MID_PAN-200)\n",
        "    Move2(speed, -speed)\n",
        "    time.sleep(delay)\n",
        "    pantilt.Servo_serial_control(1, MID_PAN-400)\n",
        "    Move2(speed, -speed)\n",
        "    time.sleep(delay)\n",
        "    pantilt.Servo_serial_control(1, MID_PAN-200)\n",
        "    Stop()\n",
        "    time.sleep(delay)\n",
        "\n",
        "    pantilt.Servo_serial_control(1, MID_PAN)\n",
        "    Stop()\n",
        "    time.sleep(delay)"
      ],
      "metadata": {
        "id": "yXwqWCN0RoD7"
      },
      "execution_count": null,
      "outputs": []
    },
    {
      "cell_type": "code",
      "source": [],
      "metadata": {
        "id": "-tT0_-rjRoB6"
      },
      "execution_count": null,
      "outputs": []
    },
    {
      "cell_type": "code",
      "source": [],
      "metadata": {
        "id": "ItR5I8qvRn_j"
      },
      "execution_count": null,
      "outputs": []
    },
    {
      "cell_type": "code",
      "source": [],
      "metadata": {
        "id": "2UI7eNkIRn9Z"
      },
      "execution_count": null,
      "outputs": []
    }
  ]
}