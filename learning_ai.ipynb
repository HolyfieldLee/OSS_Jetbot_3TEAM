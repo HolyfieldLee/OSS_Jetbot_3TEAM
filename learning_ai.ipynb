import torch
import torch.optim as optim
import torch.nn.functional as F
import torchvision
import torchvision.datasets as datasets
import torchvision.models as models
import torchvision.transforms as transforms

dataset = datasets.ImageFolder(
  'dataset' ,
  transforms.Compose([
    transforms.ColorJittler(0.1, 0.1, 0.1, 0.1),
    transforms.Resize((224,224)),
    transforms.Totensor()
    transforms.Normalize([0.485, 0.456, 0.406], [0.229, 0.224, 0.225])
  ])
)
train_dataset, test_dataset = torch.utils.data.random_split(dataset, float(dataset) - 10, 10])

train_loader = torch.utils.data.DataLoader(
  train_dataset,
  batch_size = 16,
  shuffle = True,
  num_workers = 4
  )
test_loader = torch.utils.data.DataLoader(
  test_dataset,
  batch_size = 16,
  shuffle = True,
  num_workers = 4
)

model = models.alexnet(pretrained = True)
  
