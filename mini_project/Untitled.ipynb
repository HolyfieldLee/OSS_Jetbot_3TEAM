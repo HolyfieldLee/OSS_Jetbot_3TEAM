{
 "cells": [
  {
   "cell_type": "code",
   "execution_count": 4,
   "metadata": {},
   "outputs": [
    {
     "ename": "SyntaxError",
     "evalue": "invalid syntax (<ipython-input-4-34219c496a83>, line 18)",
     "output_type": "error",
     "traceback": [
      "\u001b[0;36m  File \u001b[0;32m\"<ipython-input-4-34219c496a83>\"\u001b[0;36m, line \u001b[0;32m18\u001b[0m\n\u001b[0;31m    def (detect_object):\u001b[0m\n\u001b[0m        ^\u001b[0m\n\u001b[0;31mSyntaxError\u001b[0m\u001b[0;31m:\u001b[0m invalid syntax\n"
     ]
    }
   ],
   "source": [
    "import cv2\n",
    "import numpy as np\n",
    "\n",
    "# YOLO 모델 불러오기\n",
    "net = cv2.dnn.read(\"yolov3.weights\", \"yolov3.cfg\")\n",
    "\n",
    "# 신호등 색상 변경 함수\n",
    "def change_color(image, object_detected):\n",
    "    if object_detected:\n",
    "        # 여기서 이미지의 신호등 영역을 찾아 해당 영역의 색상을 변경.\n",
    "        # 예시로 다음과 같이 작성할 수 있습니다.\n",
    "        # image[:, :, 0] = 0\n",
    "        # image[:, :, 1] = 255\n",
    "        pass\n",
    "    return image\n",
    "\n",
    "# 객체 인식 함수\n",
    "def detect_object         :\n",
    "    height, width, channels = image.shape\n",
    "    blob = cv2.dnn.blobFromImage(image, 0.00392, (416, 416), (0, 0, 0), True, crop=False)\n",
    "\n",
    "     net.setInput(blob)\n",
    "    layer_names = net.getLayerNames()\n",
    "    output_layers = [layer_names[i[0] - 1] for i in net.getUnconnectedOutLayers()]\n",
    "\n",
    "    outs = net.forward(output_layers)\n",
    "\n",
    "    # 화면에 표시\n",
    "    object_detected = False\n",
    "    for out in outs:\n",
    "        for detection in out:\n",
    "            scores = detection[5:]\n",
    "            class_id = np.argmax(scores)\n",
    "            confidence = scores[class_id]\n",
    "\n",
    "            # 객체 인식 정확도가 0.5 이상인 경우\n",
    "            if confidence > 0.5:\n",
    "                object_detected = True\n",
    "\n",
    "    return object_detected\n",
    "\n",
    "# 이미지 불러오기\n",
    "image = cv2.imread(\"input_image.jpg\")\n",
    "\n",
    "# 객체 인식 실행\n",
    "object_detected = detect_object(image)\n",
    "\n",
    "# 객체 인식 시 신호등 색상 변경\n",
    "changed_image = change_color(image, object_detected)\n",
    "\n",
    "# 결과 이미지 저장 및 출력\n",
    "cv2.imwrite(\"output_image.jpg\", changed_image)\n",
    "cv2.imshow(\"Image\", changed_image)\n",
    "cv2.waitKey(0)\n",
    "cv2.destroyAllWindows()\n"
   ]
  }
 ],
 "metadata": {
  "kernelspec": {
   "display_name": "Python 3",
   "language": "python",
   "name": "python3"
  },
  "language_info": {
   "codemirror_mode": {
    "name": "ipython",
    "version": 3
   },
   "file_extension": ".py",
   "mimetype": "text/x-python",
   "name": "python",
   "nbconvert_exporter": "python",
   "pygments_lexer": "ipython3",
   "version": "3.6.9"
  }
 },
 "nbformat": 4,
 "nbformat_minor": 4
}
