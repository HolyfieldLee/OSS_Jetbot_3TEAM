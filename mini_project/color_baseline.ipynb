from config_for_baseline import *
from jetbot import Camera
import torchvision.transforms as transforms
from dataset import ImageClassificationDataset
import ipywidgets
import traitlets
from IPython.display import display
from jetbot import bgr8_to_jpeg

# Camera 인스턴스 생성
camera = Camera.instance()

# 데이터셋 설정
TASK = "traffic_light"  # 변경 가능
CATEGORIES = ["red", "green", "orange"]  # 변경 가능

# 데이터셋 변환 설정
TRANSFORMS = transforms.Compose([
    transforms.ColorJitter(0.2, 0.2, 0.2, 0.2),
    transforms.Resize((224, 224)),
    transforms.ToTensor(),
    transforms.Normalize([0.485, 0.456, 0.406], [0.229, 0.224, 0.225])
])

# 데이터셋 초기화
dataset = ImageClassificationDataset(TASK, CATEGORIES, TRANSFORMS)

# 카메라 콜백 제거
camera.unobserve_all()

# 이미지 미리보기 생성
camera_widget = ipywidgets.Image()
traitlets.dlink((camera, 'value'), (camera_widget, 'value'), transform=bgr8_to_jpeg)

# 위젯 생성
category_widget = ipywidgets.Dropdown(options=CATEGORIES, description='category')
count_widget = ipywidgets.IntText(description='count')
save_widget = ipywidgets.Button(description='add')

# 초기화시 수동으로 카운트 업데이트
count_widget.value = dataset.get_count(category_widget.value)

# 데이터셋 설정
def set_category(change):
    count_widget.value = dataset.get_count(change['new'])
category_widget.observe(set_category, names='value')

# 이미지 저장 및 카운트 업데이트
def save_image(c):
    dataset.save_entry(camera.value, category_widget.value)
    count_widget.value = dataset.get_count(category_widget.value)
save_widget.on_click(save_image)

data_collection_widget = ipywidgets.VBox([
    ipywidgets.HBox([camera_widget]), category_widget, count_widget, save_widget
])

# 디스플레이
all_widget = ipywidgets.VBox([
    ipywidgets.HBox([data_collection_widget])
])

display(all_widget)
