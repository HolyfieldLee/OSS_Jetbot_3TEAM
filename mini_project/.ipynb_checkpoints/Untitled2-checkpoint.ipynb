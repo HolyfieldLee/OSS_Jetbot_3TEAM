{
 "cells": [
  {
   "cell_type": "code",
   "execution_count": 1,
   "metadata": {},
   "outputs": [
    {
     "data": {
      "application/vnd.jupyter.widget-view+json": {
       "model_id": "3b0127befff3419baaa60b6e87a8061a",
       "version_major": 2,
       "version_minor": 0
      },
      "text/plain": [
       "Image(value=b'\\xff\\xd8\\xff\\xe0\\x00\\x10JFIF\\x00\\x01\\x01\\x00\\x00\\x01\\x00\\x01\\x00\\x00\\xff\\xdb\\x00C\\x00\\x02\\x01\\x0…"
      ]
     },
     "metadata": {},
     "output_type": "display_data"
    }
   ],
   "source": [
    "from jetbot import Camera\n",
    "\n",
    "from jetbot import bgr8_to_jpeg\n",
    "import ipywidgets.widgets as widgets\n",
    "from IPython.display import display\n",
    "import traitlets\n",
    "\n",
    "camera = Camera.instance(width=224, height=224, fps =10)\n",
    "image = widgets.Image(format='jpeg', width=224, height=224)\n",
    "camera_link = traitlets.dlink((camera, 'value'), (image, 'value'), transform=bgr8_to_jpeg)\n",
    "\n",
    "display(image)\n",
    "\n"
   ]
  },
  {
   "cell_type": "code",
   "execution_count": 2,
   "metadata": {},
   "outputs": [
    {
     "name": "stdout",
     "output_type": "stream",
     "text": [
      "noooooo\n"
     ]
    }
   ],
   "source": [
    "import os\n",
    "\n",
    "red_dir = 'dataset/red'\n",
    "orange_dir = 'dataset/orange'\n",
    "green_dir = 'dataset/green'\n",
    "\n",
    "try:\n",
    "    os.makedirs(red_dir)\n",
    "    os.makedirs(orange_dir)\n",
    "    os.makedirs(green_dir)\n",
    "    \n",
    "except FileExistsError:\n",
    "    print('noooooo')\n",
    "    "
   ]
  },
  {
   "cell_type": "code",
   "execution_count": 3,
   "metadata": {},
   "outputs": [],
   "source": [
    "button_layout = widgets.Layout(width='128px', height = '64px')\n",
    "\n",
    "red_button = widgets.Button(description='add RED', button_style='success', layout=button_layout)\n",
    "red_button.style.button_color = 'red'\n",
    "\n",
    "orange_button = widgets.Button(description='add ORANGE', button_style='success', layout=button_layout)\n",
    "orange_button.style.button_color = 'orange'\n",
    "\n",
    "green_button = widgets.Button(description='add GREEN', button_style='success', layout=button_layout)\n",
    "green_button.style.button_color = 'green'\n",
    "\n",
    "red_count = widgets.IntText(layout=button_layout, value=len(os.listdir(red_dir)))\n",
    "orange_count = widgets.IntText(layout=button_layout, value=len(os.listdir(orange_dir)))\n",
    "green_count = widgets.IntText(layout=button_layout, value=len(os.listdir(green_dir)))\n"
   ]
  },
  {
   "cell_type": "code",
   "execution_count": 4,
   "metadata": {},
   "outputs": [],
   "source": [
    "from uuid import uuid1\n",
    "\n",
    "def save_snapshot(directory):\n",
    "    image_path = os.path.join(directory, str(uuid1()) + 'jpg')\n",
    "    with open(image_path, 'wb') as f:\n",
    "        f.write(image.value)\n",
    "        \n",
    "def save_red():\n",
    "    global red_dir, red_count\n",
    "    save_snapshot(red_dir)\n",
    "    red_count.value = len(os.listdir(red_dir))\n",
    "    \n",
    "def save_orange():\n",
    "    global orange_dir, orange_count\n",
    "    save_snapshot(orange_dir)\n",
    "    red_count.value = len(os.listdir(orange_dir))\n",
    "    \n",
    "def save_green():\n",
    "    global red_dir, green_count\n",
    "    save_snapshot(green_dir)\n",
    "    red_count.value = len(os.listdir(green_dir))\n",
    "    \n",
    "red_button.on_click(lambda x: save_red())\n",
    "orange_button.on_click(lambda x: save_orange())\n",
    "green_button.on_click(lambda x: save_green())"
   ]
  },
  {
   "cell_type": "code",
   "execution_count": 10,
   "metadata": {},
   "outputs": [
    {
     "data": {
      "application/vnd.jupyter.widget-view+json": {
       "model_id": "d4a2f8fc8caf4d5cbe5bcdaf0cd4cd70",
       "version_major": 2,
       "version_minor": 0
      },
      "text/plain": [
       "Image(value=b'\\xff\\xd8\\xff\\xe0\\x00\\x10JFIF\\x00\\x01\\x01\\x00\\x00\\x01\\x00\\x01\\x00\\x00\\xff\\xdb\\x00C\\x00\\x02\\x01\\x0…"
      ]
     },
     "metadata": {},
     "output_type": "display_data"
    },
    {
     "data": {
      "application/vnd.jupyter.widget-view+json": {
       "model_id": "77d759755811418292ecbf0c74f43213",
       "version_major": 2,
       "version_minor": 0
      },
      "text/plain": [
       "HBox(children=(IntText(value=0, layout=Layout(height='64px', width='128px')), Button(button_style='success', d…"
      ]
     },
     "metadata": {},
     "output_type": "display_data"
    },
    {
     "data": {
      "application/vnd.jupyter.widget-view+json": {
       "model_id": "ce4a16051f5848a69b006a16dfdbfe8d",
       "version_major": 2,
       "version_minor": 0
      },
      "text/plain": [
       "HBox(children=(IntText(value=0, layout=Layout(height='64px', width='128px')), Button(button_style='success', d…"
      ]
     },
     "metadata": {},
     "output_type": "display_data"
    },
    {
     "data": {
      "application/vnd.jupyter.widget-view+json": {
       "model_id": "7de73af90e184c23b5a25c108e0df295",
       "version_major": 2,
       "version_minor": 0
      },
      "text/plain": [
       "HBox(children=(IntText(value=0, layout=Layout(height='64px', width='128px')), Button(button_style='success', d…"
      ]
     },
     "metadata": {},
     "output_type": "display_data"
    }
   ],
   "source": [
    "display(image)\n",
    "display(widgets.HBox([red_count, red_button]))\n",
    "display(widgets.HBox([red_count, orange_button]))\n",
    "display(widgets.HBox([red_count, green_button]))"
   ]
  },
  {
   "cell_type": "code",
   "execution_count": null,
   "metadata": {},
   "outputs": [],
   "source": [
    "def detect_circle(mask, color):\n",
    "    contours, _=cv2.findContours(mask, cv2.RETR_EXTERNAL, cv2.CHAIN_APPROX_SIMPLE)\n",
    "    image = camera.value\n",
    "\n",
    "red_detected = detect_circle(red_mask, (0,0,255))\n",
    "\n",
    "    orange_detected = detect_circle(orange_mask, (0,165,255))\n",
    "    green_detected = detect_circle(green_mask, (0,255,0))\n",
    "    \n",
    "    return red_detected, orange_detected, green_detected\n",
    "            "
   ]
  },
  {
   "cell_type": "code",
   "execution_count": null,
   "metadata": {},
   "outputs": [],
   "source": [
    "KeyboardInterrupt                         Traceback (most recent call last)\n",
    "<ipython-input-21-0d7877151b0a> in <module>\n",
    "      2     image = camera.value\n",
    "      3 \n",
    "----> 4     red_detected,orange_detected,green_detected = detect_color_circle(image)\n",
    "      5 \n",
    "      6     if red_detected:\n",
    "\n",
    "<ipython-input-19-3a2491a5a0c5> in detect_color_circle(image)\n",
    "      8     red_detected = detect_circle(red_mask, (0,0,255))\n",
    "      9     orange_detected = detect_circle(orange_mask, (0,165,255))\n",
    "---> 10     green_detected = detect_circle(green_mask, (0,255,0))\n",
    "     11 \n",
    "     12     return red_detected,orange_detected,green_detected\n",
    "\n",
    "<ipython-input-19-3a2491a5a0c5> in detect_circle(mask, color)\n",
    "     13 \n",
    "     14 def detect_circle(mask, color):\n",
    "---> 15     contours, _=cv2.findContours(mask, cv2.RETR_EXTERNAL, cv2.CHAIN_APPROX_SIMPLE)\n",
    "     16 \n",
    "     17     for contour in contours:\n",
    "\n",
    "KeyboardInterrupt: "
   ]
  },
  {
   "cell_type": "code",
   "execution_count": null,
   "metadata": {},
   "outputs": [],
   "source": [
    "lower_brown = np.array([10,50,50])\n",
    "upper_brown = np.array([30,255,255])\n",
    "\n",
    "brown_mask =cv2.inPange(hsv,lower_brown,upper_brown)\n",
    "brown_detected = detect_circle(brown_mask,(139,69,19))"
   ]
  },
  {
   "cell_type": "code",
   "execution_count": null,
   "metadata": {},
   "outputs": [],
   "source": [
    "import os\n",
    "os.system('sudo chmod 777 /dev/ttyTHS1')\n",
    "\n",
    "import RPi.GPIO as GPIO\n",
    "BBEP_pin = 6\n",
    "\n",
    "GPIO.setmode(GPIO.BCM)\n",
    "GPIO.setup(BEEP_pin, GPIO.OUT, initial =GPIO.LOW)\n",
    "\n",
    "def beep(beeptime):\n",
    "    GPIO.output(BEEP_pin,GPIO.HIGH)\n",
    "    time.sleep(beeptime)\n",
    "    GPIO.output(BEEP_pin,GPIO.LOW)\n",
    "    \n",
    "beep(2)"
   ]
  },
  {
   "cell_type": "code",
   "execution_count": null,
   "metadata": {},
   "outputs": [],
   "source": [
    " elif purple_detected:\n",
    "        if time.time()- right_start_time <2:\n",
    "            robot.right(1)\n",
    "        else:\n",
    "            robot.stop()\n",
    "        \n",
    "    elif blue_detected:\n",
    "        if time.time()- left_start_time <2:\n",
    "            robot.left(1)\n",
    "        else:\n",
    "            robot.stop()"
   ]
  },
  {
   "cell_type": "code",
   "execution_count": null,
   "metadata": {},
   "outputs": [],
   "source": [
    "if red_detected:\n",
    "        robot.stop()\n",
    "        print(\"red\")\n",
    "        \n",
    "    elif orange_detected:\n",
    "        if time.time()- backward_start_time <2:\n",
    "            robot.backward(1)\n",
    "        else:\n",
    "            robot.stop()\n",
    "            print('orange')\n",
    "        \n",
    "    elif green_detected:\n",
    "        start_time =  time.time()\n",
    "        while time.time() <start_time +2:\n",
    "            robot.forward(1)\n",
    "        \n",
    "        \n",
    "        if time.time()- forward_start_time <2:\n",
    "            robot.forward(1)\n",
    "        else:\n",
    "            robot.stop()\n",
    "            print(\"green\")\n",
    "    \n",
    "    elif purple_detected:\n",
    "        if time.time()- right_start_time <2:\n",
    "            robot.right(1)\n",
    "        else:\n",
    "            robot.stop()\n",
    "            print(\"purple\")\n",
    "        \n",
    "    elif blue_detected:\n",
    "        if time.time()- left_start_time <2:\n",
    "            robot.left(1)\n",
    "        else:\n",
    "            robot.stop()\n",
    "            print(\"blue\")\n",
    "            "
   ]
  },
  {
   "cell_type": "code",
   "execution_count": null,
   "metadata": {},
   "outputs": [],
   "source": [
    "while True:\n",
    "    time.sleep(1)\n",
    "    image = camera.value\n",
    "    \n",
    "    \n",
    "    red_detected,orange_detected,green_detected,purple_detected,blue_detected = detect_color_circle(image)\n",
    "    \n",
    "    if red_detected:\n",
    "        robot.stop()\n",
    "        print(\"red\")\n",
    "        \n",
    "    elif orange_detected:\n",
    "        start_time =  time.time()\n",
    "        while time.time() <start_time +2:\n",
    "            robot.backward(0.5)\n",
    "            \n",
    "\n",
    "    elif green_detected:\n",
    "        start_time =  time.time()\n",
    "        while time.time() <start_time +2:\n",
    "            robot.forward(0.5)\n",
    "        \n",
    "        \n",
    "    elif purple_detected:\n",
    "        start_time =  time.time()\n",
    "        while time.time() <start_time +2:\n",
    "            robot.right(0.5)\n",
    "            \n",
    "        \n",
    "    elif blue_detected:\n",
    "        start_time =  time.time()\n",
    "        while time.time() <start_time +2:\n",
    "            robot.left(0.5)\n",
    "            \n",
    "            \n",
    "\n",
    "    \n",
    "        \n",
    "      \n",
    "    \n",
    "        "
   ]
  }
 ],
 "metadata": {
  "kernelspec": {
   "display_name": "Python 3",
   "language": "python",
   "name": "python3"
  },
  "language_info": {
   "codemirror_mode": {
    "name": "ipython",
    "version": 3
   },
   "file_extension": ".py",
   "mimetype": "text/x-python",
   "name": "python",
   "nbconvert_exporter": "python",
   "pygments_lexer": "ipython3",
   "version": "3.6.9"
  }
 },
 "nbformat": 4,
 "nbformat_minor": 4
}
