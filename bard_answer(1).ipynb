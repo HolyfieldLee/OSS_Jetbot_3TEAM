{
  "nbformat": 4,
  "nbformat_minor": 0,
  "metadata": {
    "colab": {
      "provenance": [],
      "authorship_tag": "ABX9TyPWUgJm/0obU1rA5P8HN0mG",
      "include_colab_link": true
    },
    "kernelspec": {
      "name": "python3",
      "display_name": "Python 3"
    },
    "language_info": {
      "name": "python"
    }
  },
  "cells": [
    {
      "cell_type": "markdown",
      "metadata": {
        "id": "view-in-github",
        "colab_type": "text"
      },
      "source": [
        "<a href=\"https://colab.research.google.com/github/HolyfieldLee/OSS_Jetbot_3TEAM/blob/main/bard_answer(1).ipynb\" target=\"_parent\"><img src=\"https://colab.research.google.com/assets/colab-badge.svg\" alt=\"Open In Colab\"/></a>"
      ]
    },
    {
      "cell_type": "code",
      "execution_count": null,
      "metadata": {
        "id": "emiX9KOgbHeV"
      },
      "outputs": [],
      "source": [
        "import torch\n",
        "\n",
        "# 훈련된 모델 파일 경로\n",
        "model_path = \"my_model.pth\"\n",
        "\n",
        "# 모델 불러오기\n",
        "model = torch.load(model_path)\n",
        "model.eval()\n",
        "\n",
        "# 젯봇 제어 함수\n",
        "def control_robot(prediction):\n",
        "    if prediction == 0:  # 빨간색\n",
        "        # 정지\n",
        "        return [0, 0]\n",
        "    elif prediction == 1:  # 초록색\n",
        "        # 전진\n",
        "        return [1, 0]\n",
        "    elif prediction == 2:  # 오렌지색\n",
        "        # 후진과 경적소리\n",
        "        return [-1, 1]\n",
        "    else:\n",
        "        # 알 수 없는 색상\n",
        "        return [0, 0]\n",
        "\n",
        "# 센서 데이터 수집 함수\n",
        "def get_sensor_data():\n",
        "    # 카메라 이미지 수집\n",
        "    image = get_camera_image()\n",
        "\n",
        "    # 거리 센서 데이터 수집\n",
        "    distance_data = get_distance_sensor_data()\n",
        "\n",
        "    # 모터 엔코더 값 수집\n",
        "    encoder_data = get_motor_encoder_data()\n",
        "\n",
        "    # 센서 데이터 결합\n",
        "    sensor_data = [image, distance_data, encoder_data]\n",
        "    return sensor_data\n",
        "\n",
        "# main 함수\n",
        "def main():\n",
        "    # 센서 데이터 수집\n",
        "    sensor_data = get_sensor_data()\n",
        "\n",
        "    # 모델 예측\n",
        "    prediction = model(sensor_data)\n",
        "\n",
        "    # 제어 신호 생성\n",
        "    control_signals = control_robot(prediction)\n",
        "\n",
        "    # 젯봇 제어\n",
        "    send_control_signals(control_signals)\n",
        "\n",
        "if __name__ == \"__main__\":\n",
        "    main()\n"
      ]
    }
  ]
}